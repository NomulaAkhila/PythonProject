{
 "cells": [
  {
   "cell_type": "markdown",
   "id": "9bd50ce3-d350-4b16-b42d-3b40f35c6fec",
   "metadata": {},
   "source": [
    "### TIC TAC TOE BOARD"
   ]
  },
  {
   "cell_type": "code",
   "execution_count": null,
   "id": "d7307584-6914-4f58-878b-6e69c4916c13",
   "metadata": {},
   "outputs": [],
   "source": [
    "from IPython.display import clear_output"
   ]
  },
  {
   "cell_type": "code",
   "execution_count": null,
   "id": "f0def4e8-5c8f-4790-a507-d4d49f4a66ad",
   "metadata": {},
   "outputs": [],
   "source": [
    "def display_board(board):\n",
    "    clear_output()\n",
    "    print(board[7]+\" | \"+board[8]+\" | \"+board[9])\n",
    "    print(board[4]+\" | \"+board[5]+\" | \"+board[6])\n",
    "    print(board[1]+\" | \"+board[2]+\" | \"+board[3])\n",
    "\n",
    "test_board= [\"#\",\"X\",\"O\",\"X\",\"O\",\"X\",\"O\",\"X\",\"O\",\"X\"]\n",
    "display_board(test_board)"
   ]
  },
  {
   "cell_type": "code",
   "execution_count": null,
   "id": "af021a4f-85fd-4113-aa52-d748aeb6285d",
   "metadata": {},
   "outputs": [],
   "source": [
    "def player_input():\n",
    "    marker=\" \"\n",
    "    while(marker!=\"X\" and marker!=\"O\"):\n",
    "        marker=input(\"Player1, Choose X or O - \")\n",
    "    player1=marker\n",
    "    if player1==\"X\":\n",
    "        player2=\"O\"\n",
    "    else:\n",
    "        player2=\"X\"\n",
    "\n",
    "    return(player1, player2)\n",
    "\n",
    "player_input()"
   ]
  },
  {
   "cell_type": "code",
   "execution_count": null,
   "id": "e20d832c-f01e-47d1-b1e0-2fb5371b2d34",
   "metadata": {},
   "outputs": [],
   "source": [
    "def place_marker(board, marker, position):\n",
    "    board[position]=marker"
   ]
  },
  {
   "cell_type": "code",
   "execution_count": null,
   "id": "021ba848-b6bb-4e25-a8a1-63ec759f0c95",
   "metadata": {},
   "outputs": [],
   "source": [
    "place_marker(test_board,\"#\",8)\n",
    "display_board(test_board)"
   ]
  },
  {
   "cell_type": "code",
   "execution_count": null,
   "id": "4aff66a1-bcc6-4c8f-897a-9bf143857234",
   "metadata": {},
   "outputs": [],
   "source": [
    "def win_check(board, mark):\n",
    "    return ((board[7]== mark and board[8]== mark and board[9]==mark) or (board[1]== mark and board[2]== mark and board[3]==mark) or (board[4]== mark and board[5]== mark and board[6]==mark) or (board[7]== mark and board[5]== mark and board[3]==mark) or (board[1]== mark and board[5]== mark and board[9]==mark) or (board[2]== mark and board[5]== mark and board[8]==mark) or (board[9]== mark and board[6]== mark and board[3]==mark) or (board[7]== mark and board[4]== mark and board[1]==mark))"
   ]
  },
  {
   "cell_type": "code",
   "execution_count": null,
   "id": "e2126db0-ae9f-4bf9-bcfa-26641738feb9",
   "metadata": {},
   "outputs": [],
   "source": [
    "win_check(test_board,\"X\")"
   ]
  },
  {
   "cell_type": "code",
   "execution_count": null,
   "id": "bc7930db-7762-4db3-a391-cd32aa72212c",
   "metadata": {},
   "outputs": [],
   "source": [
    "import random\n",
    "\n",
    "def choose_first():\n",
    "    if random.randint(0,1)==0:\n",
    "        return \"Player 2\"\n",
    "    else:\n",
    "        return \"Player 1\"\n",
    "    "
   ]
  },
  {
   "cell_type": "code",
   "execution_count": null,
   "id": "bad46519-79f6-428b-bcec-81002ab0becb",
   "metadata": {},
   "outputs": [],
   "source": [
    "def space_check(board, position):\n",
    "    return board[position]==\" \"  "
   ]
  },
  {
   "cell_type": "code",
   "execution_count": null,
   "id": "a7192564-cd18-4a98-bfdd-04ea3a67c3bd",
   "metadata": {},
   "outputs": [],
   "source": [
    "def full_board_Check(board):\n",
    "    for i in range(1, 10):\n",
    "        if space_check(board, i):\n",
    "            return False\n",
    "        else:\n",
    "            return True"
   ]
  },
  {
   "cell_type": "code",
   "execution_count": null,
   "id": "26c4def3-0394-4dde-9e4a-3a202f7f8bf1",
   "metadata": {},
   "outputs": [],
   "source": [
    "def player_choice(board):\n",
    "    position=0\n",
    "    while position not in range(1,10) or not space_check(board, position):\n",
    "        position=int(input(\"Choose for a next position(1-9)- \"))  \n",
    "    return position\n",
    "    "
   ]
  },
  {
   "cell_type": "code",
   "execution_count": null,
   "id": "6e7f6ec3-f8fb-4fa4-9f7a-8bb4db098144",
   "metadata": {},
   "outputs": [],
   "source": [
    "def replay():\n",
    "    return input(\"Do you want to play again? Enter Y or N: \").lower().startswith('y')\n",
    "    "
   ]
  },
  {
   "cell_type": "code",
   "execution_count": null,
   "id": "0c7e13c3-cf74-4977-a3ef-94c1951cb8e6",
   "metadata": {},
   "outputs": [],
   "source": [
    "print(\" Welcome to Tic Tac Toe!!! \")\n",
    "while True:\n",
    "    new_Board=[\" \"]*10\n",
    "    player1_marker, player2_marker = player_input()\n",
    "    player_turn=choose_first()\n",
    "    print(player_turn+ \" will go first\")\n",
    "    play_game=input(\"Are you ready to play? Y or N\" )\n",
    "    if play_game==\"y\" or play_game==\"Y\":\n",
    "        game_on=True\n",
    "    else:\n",
    "        game_on=False\n",
    "\n",
    "    while game_on:\n",
    "        if player_turn == \"Player 1\":\n",
    "            display_board(new_Board)\n",
    "            position=player_choice(new_Board)\n",
    "            place_marker(new_Board,player1_marker,position)\n",
    "            if win_check(new_Board, player1_marker):\n",
    "                display_board(new_Board)\n",
    "                print(\"Congratulations!!, player1 WON the game\")\n",
    "                game_on=False\n",
    "            else:\n",
    "                if full_board_Check(new_Board):\n",
    "                    display_board(new_Board)\n",
    "                    print(\"The game is a draw\")\n",
    "                    game_on= False\n",
    "                else:\n",
    "                    player_turn=\"Player 2\"\n",
    "        else:\n",
    "            display_board(new_Board)\n",
    "            position=player_choice(new_Board)\n",
    "            place_marker(new_Board,player2_marker,position)\n",
    "            if win_check(new_Board, player2_marker):\n",
    "                display_board(new_Board)\n",
    "                print(\"Congratulations!!, Player2 WON the game\")\n",
    "                game_on=False\n",
    "            else:\n",
    "                if full_board_Check(new_Board):\n",
    "                    display_board(new_Board)\n",
    "                    print(\"The game is a draw\")\n",
    "                    game_on = False\n",
    "                else:\n",
    "                    player_turn=\"Player 1\"\n",
    "\n",
    "    if not replay():\n",
    "        break\n",
    "        \n",
    "    "
   ]
  },
  {
   "cell_type": "code",
   "execution_count": null,
   "id": "11090cc4-1bc9-4ae1-b276-a885dfb8c0f9",
   "metadata": {},
   "outputs": [],
   "source": []
  },
  {
   "cell_type": "code",
   "execution_count": null,
   "id": "e3d39874-1fa8-4430-83d3-42a399aff8fc",
   "metadata": {},
   "outputs": [],
   "source": []
  },
  {
   "cell_type": "code",
   "execution_count": null,
   "id": "fde4438f-8d54-484e-9de5-50e4180a9d9f",
   "metadata": {},
   "outputs": [],
   "source": []
  },
  {
   "cell_type": "code",
   "execution_count": null,
   "id": "d2898ae9-d643-4027-9cbf-36c60cb184b9",
   "metadata": {},
   "outputs": [],
   "source": []
  },
  {
   "cell_type": "code",
   "execution_count": null,
   "id": "0c5e84f7-d2d4-412e-ac6c-0902899968c5",
   "metadata": {},
   "outputs": [],
   "source": []
  },
  {
   "cell_type": "code",
   "execution_count": null,
   "id": "5f0f208a-0457-4991-b37b-62ac53d4e898",
   "metadata": {},
   "outputs": [],
   "source": []
  },
  {
   "cell_type": "code",
   "execution_count": null,
   "id": "e293d6b0-7460-4a45-8c89-00ba79a4d1c0",
   "metadata": {},
   "outputs": [],
   "source": []
  },
  {
   "cell_type": "code",
   "execution_count": null,
   "id": "0bb5eb76-c7d0-43aa-92f5-7f12b2ac6132",
   "metadata": {},
   "outputs": [],
   "source": []
  },
  {
   "cell_type": "code",
   "execution_count": null,
   "id": "b70f3792-c4b0-4ff3-9885-3357917b6005",
   "metadata": {},
   "outputs": [],
   "source": []
  },
  {
   "cell_type": "code",
   "execution_count": null,
   "id": "922ca46c-9a93-455d-934e-22fdde7c4e42",
   "metadata": {},
   "outputs": [],
   "source": []
  },
  {
   "cell_type": "code",
   "execution_count": null,
   "id": "54a72b0e-1c69-43d0-9418-55824f7e158a",
   "metadata": {},
   "outputs": [],
   "source": []
  },
  {
   "cell_type": "code",
   "execution_count": null,
   "id": "607187fd-8113-4a4c-be52-a70fd34e6e29",
   "metadata": {},
   "outputs": [],
   "source": []
  },
  {
   "cell_type": "code",
   "execution_count": null,
   "id": "4f19d46a-9721-4849-8c33-e6f0f9a90cf9",
   "metadata": {},
   "outputs": [],
   "source": []
  },
  {
   "cell_type": "code",
   "execution_count": null,
   "id": "3ff5f19b-c3f4-41e9-b7a6-805372f0ef04",
   "metadata": {},
   "outputs": [],
   "source": []
  },
  {
   "cell_type": "code",
   "execution_count": null,
   "id": "e97d1651-e104-4691-910e-be95d2895b1a",
   "metadata": {},
   "outputs": [],
   "source": []
  },
  {
   "cell_type": "markdown",
   "id": "392f2a88-a04a-4499-991d-f7adc8b175c5",
   "metadata": {},
   "source": [
    "###### "
   ]
  }
 ],
 "metadata": {
  "kernelspec": {
   "display_name": "Python [conda env:base] *",
   "language": "python",
   "name": "conda-base-py"
  },
  "language_info": {
   "codemirror_mode": {
    "name": "ipython",
    "version": 3
   },
   "file_extension": ".py",
   "mimetype": "text/x-python",
   "name": "python",
   "nbconvert_exporter": "python",
   "pygments_lexer": "ipython3",
   "version": "3.12.7"
  }
 },
 "nbformat": 4,
 "nbformat_minor": 5
}

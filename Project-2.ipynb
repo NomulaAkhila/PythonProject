{
 "cells": [
  {
   "cell_type": "markdown",
   "id": "51d76ddf-bffd-48c7-8b27-2480ec32fbc9",
   "metadata": {},
   "source": [
    "# CARD GAME"
   ]
  },
  {
   "cell_type": "code",
   "execution_count": 165,
   "id": "20a69507-f890-4892-8852-65e18bc0df6c",
   "metadata": {},
   "outputs": [],
   "source": [
    "#Card\n",
    "# suit(hearts, diamonds, clubs or spades), Rank (2 to 9 , A, J, K, Q), value\n",
    "import random\n",
    "suits = (\"Hearts\", \"Diamonds\", \"Spades\", \"Clubs\")\n",
    "ranks = (\"Two\", \"Three\", \"Four\", \"Five\", \"Six\", \"Seven\", \"Eight\", \"Nine\", \"Ten\", \"Jack\", \"Queen\", \"King\", \"Ace\")\n",
    "values =  { \"Two\": 2,\n",
    "    \"Three\": 3,\n",
    "    \"Four\": 4,\n",
    "    \"Five\": 5,\n",
    "    \"Six\": 6,\n",
    "    \"Seven\": 7,\n",
    "    \"Eight\": 8,\n",
    "    \"Nine\": 9,\n",
    "    \"Ten\": 10,\n",
    "    \"Jack\": 11,\n",
    "    \"Queen\": 12,\n",
    "    \"King\": 13,\n",
    "    \"Ace\": 14}"
   ]
  },
  {
   "cell_type": "code",
   "execution_count": 167,
   "id": "3275613a-ea95-4f45-830b-74b398b6551a",
   "metadata": {},
   "outputs": [],
   "source": [
    "class Card:     # we may or may not use paranthesis becoz we aren't using inheritance here\n",
    "    \n",
    "    def __init__(self, suit, rank):\n",
    "        self.suit = suit\n",
    "        self.rank = rank\n",
    "        self.value = values[rank]\n",
    "        \n",
    "    def __str__(self):\n",
    "        return self.rank + \" of \" + self. suit "
   ]
  },
  {
   "cell_type": "code",
   "execution_count": 169,
   "id": "55150b40-cea0-4ea3-b2c0-f71803e0d083",
   "metadata": {},
   "outputs": [],
   "source": [
    "three_clubs=Card(\"Clubs\", \"Three\")"
   ]
  },
  {
   "cell_type": "code",
   "execution_count": 171,
   "id": "3168890c-6114-416d-9d43-73e9513a851d",
   "metadata": {},
   "outputs": [
    {
     "data": {
      "text/plain": [
       "3"
      ]
     },
     "execution_count": 171,
     "metadata": {},
     "output_type": "execute_result"
    }
   ],
   "source": [
    "three_clubs.value"
   ]
  },
  {
   "cell_type": "code",
   "execution_count": 173,
   "id": "07564344-511d-479d-b19a-a1a0b09b810e",
   "metadata": {},
   "outputs": [
    {
     "data": {
      "text/plain": [
       "'Clubs'"
      ]
     },
     "execution_count": 173,
     "metadata": {},
     "output_type": "execute_result"
    }
   ],
   "source": [
    "three_clubs.suit"
   ]
  },
  {
   "cell_type": "code",
   "execution_count": 175,
   "id": "54db06e8-8f16-42a0-89f4-c4ae6b0b22bc",
   "metadata": {},
   "outputs": [],
   "source": [
    "two_hearts = Card(\"Hearts\", \"Two\")"
   ]
  },
  {
   "cell_type": "code",
   "execution_count": 177,
   "id": "0c2cb2a4-22b0-48b8-89b9-b13b3ba0dc6f",
   "metadata": {},
   "outputs": [
    {
     "data": {
      "text/plain": [
       "<__main__.Card at 0x26328da3b90>"
      ]
     },
     "execution_count": 177,
     "metadata": {},
     "output_type": "execute_result"
    }
   ],
   "source": [
    "two_hearts"
   ]
  },
  {
   "cell_type": "code",
   "execution_count": 179,
   "id": "5e40a15a-3c1a-49d9-82b2-8444dd7d788b",
   "metadata": {},
   "outputs": [
    {
     "name": "stdout",
     "output_type": "stream",
     "text": [
      "Two of Hearts\n"
     ]
    }
   ],
   "source": [
    "print(two_hearts)"
   ]
  },
  {
   "cell_type": "code",
   "execution_count": 181,
   "id": "5e6fdc22-b7a6-4ba3-9e9b-7c3ad95ddcbb",
   "metadata": {},
   "outputs": [
    {
     "data": {
      "text/plain": [
       "'Hearts'"
      ]
     },
     "execution_count": 181,
     "metadata": {},
     "output_type": "execute_result"
    }
   ],
   "source": [
    "two_hearts.suit"
   ]
  },
  {
   "cell_type": "code",
   "execution_count": 183,
   "id": "e852a422-2d80-4dfe-8234-ab0a8c9b0483",
   "metadata": {},
   "outputs": [
    {
     "data": {
      "text/plain": [
       "'Two'"
      ]
     },
     "execution_count": 183,
     "metadata": {},
     "output_type": "execute_result"
    }
   ],
   "source": [
    "two_hearts.rank"
   ]
  },
  {
   "cell_type": "code",
   "execution_count": 185,
   "id": "5f07c01f-a228-4e7d-b6bf-ef910a4e9f38",
   "metadata": {},
   "outputs": [],
   "source": [
    "class Deck:\n",
    "    def __init__(self):\n",
    "        self.all_cards=[]\n",
    "        for suit in suits:\n",
    "            for rank in ranks:\n",
    "                created_card=Card(suit, rank)\n",
    "                self.all_cards.append(created_card)\n",
    "                \n",
    "    # shuffle the deck\n",
    "    def shuffle(self):\n",
    "        random.shuffle(self.all_cards)\n",
    "\n",
    "    def deal_one(self):\n",
    "        return self.all_cards.pop()"
   ]
  },
  {
   "cell_type": "code",
   "execution_count": 187,
   "id": "ff6972e9-c8d1-4376-ba2d-560c5dd242e3",
   "metadata": {},
   "outputs": [],
   "source": [
    "new_Deck=Deck()"
   ]
  },
  {
   "cell_type": "code",
   "execution_count": 189,
   "id": "a29f30b1-b25f-4ec1-a79c-61efd38b2060",
   "metadata": {},
   "outputs": [
    {
     "name": "stdout",
     "output_type": "stream",
     "text": [
      "Two of Hearts\n",
      "Three of Hearts\n",
      "Four of Hearts\n",
      "Five of Hearts\n",
      "Six of Hearts\n",
      "Seven of Hearts\n",
      "Eight of Hearts\n",
      "Nine of Hearts\n",
      "Ten of Hearts\n",
      "Jack of Hearts\n",
      "Queen of Hearts\n",
      "King of Hearts\n",
      "Ace of Hearts\n",
      "Two of Diamonds\n",
      "Three of Diamonds\n",
      "Four of Diamonds\n",
      "Five of Diamonds\n",
      "Six of Diamonds\n",
      "Seven of Diamonds\n",
      "Eight of Diamonds\n",
      "Nine of Diamonds\n",
      "Ten of Diamonds\n",
      "Jack of Diamonds\n",
      "Queen of Diamonds\n",
      "King of Diamonds\n",
      "Ace of Diamonds\n",
      "Two of Spades\n",
      "Three of Spades\n",
      "Four of Spades\n",
      "Five of Spades\n",
      "Six of Spades\n",
      "Seven of Spades\n",
      "Eight of Spades\n",
      "Nine of Spades\n",
      "Ten of Spades\n",
      "Jack of Spades\n",
      "Queen of Spades\n",
      "King of Spades\n",
      "Ace of Spades\n",
      "Two of Clubs\n",
      "Three of Clubs\n",
      "Four of Clubs\n",
      "Five of Clubs\n",
      "Six of Clubs\n",
      "Seven of Clubs\n",
      "Eight of Clubs\n",
      "Nine of Clubs\n",
      "Ten of Clubs\n",
      "Jack of Clubs\n",
      "Queen of Clubs\n",
      "King of Clubs\n",
      "Ace of Clubs\n"
     ]
    }
   ],
   "source": [
    "for card_obj in new_Deck.all_cards:\n",
    "    print(card_obj)"
   ]
  },
  {
   "cell_type": "code",
   "execution_count": 191,
   "id": "514b76cc-3ff8-4e6c-836e-128f81f04c19",
   "metadata": {},
   "outputs": [],
   "source": [
    "bottom_card=new_Deck.all_cards[-1]"
   ]
  },
  {
   "cell_type": "code",
   "execution_count": 193,
   "id": "b096ec94-eb9f-44bb-8b62-cab4a521f124",
   "metadata": {},
   "outputs": [
    {
     "name": "stdout",
     "output_type": "stream",
     "text": [
      "Ace of Clubs\n"
     ]
    }
   ],
   "source": [
    "print(bottom_card)"
   ]
  },
  {
   "cell_type": "code",
   "execution_count": 195,
   "id": "9b2376cc-47f6-4d6c-8013-d1bd316f6112",
   "metadata": {},
   "outputs": [],
   "source": [
    "new_Deck.shuffle()"
   ]
  },
  {
   "cell_type": "code",
   "execution_count": 197,
   "id": "b042514a-4626-494a-bc0f-b07f110c2461",
   "metadata": {},
   "outputs": [
    {
     "name": "stdout",
     "output_type": "stream",
     "text": [
      "Five of Hearts\n"
     ]
    }
   ],
   "source": [
    "print(new_Deck.all_cards[-1])"
   ]
  },
  {
   "cell_type": "code",
   "execution_count": 199,
   "id": "8012fab5-b88a-4862-b417-3f7305ddafb0",
   "metadata": {},
   "outputs": [],
   "source": [
    "del_card = new_Deck.deal_one()"
   ]
  },
  {
   "cell_type": "code",
   "execution_count": 201,
   "id": "70e8a324-f6fb-42df-8a96-57800a7bb6bb",
   "metadata": {},
   "outputs": [
    {
     "name": "stdout",
     "output_type": "stream",
     "text": [
      "Five of Hearts\n"
     ]
    }
   ],
   "source": [
    "print(del_card)"
   ]
  },
  {
   "cell_type": "code",
   "execution_count": 203,
   "id": "753ea28f-e81d-4c4d-8785-9d8df538522e",
   "metadata": {},
   "outputs": [
    {
     "data": {
      "text/plain": [
       "51"
      ]
     },
     "execution_count": 203,
     "metadata": {},
     "output_type": "execute_result"
    }
   ],
   "source": [
    "len(new_Deck.all_cards)"
   ]
  },
  {
   "cell_type": "code",
   "execution_count": 205,
   "id": "ffadc016-60b5-4a3b-a11a-6c2bb3ac6124",
   "metadata": {},
   "outputs": [],
   "source": [
    "#Player class\n",
    "class Player:\n",
    "    def __init__(self, name):\n",
    "        self.name= name\n",
    "        self.all_cards=[]\n",
    "    def remove_one(self):\n",
    "        return self.all_cards.pop(0)\n",
    "\n",
    "    def add_cards(self, new_cards):\n",
    "        if type(new_cards) == type([]):\n",
    "            # List of multiple cards \n",
    "            self.all_cards.extend(new_cards)\n",
    "        else:\n",
    "            #for a single card\n",
    "            self.all_cards.append(new_cards)    \n",
    "        \n",
    "    def __str__(self):\n",
    "        return f'Player : {self.name} has {len(self.all_cards)} cards.'"
   ]
  },
  {
   "cell_type": "code",
   "execution_count": 207,
   "id": "48f6fa21-77ee-41ca-a63e-5bb26c22fa38",
   "metadata": {},
   "outputs": [],
   "source": [
    "new_player = Player(\"Sammy\")"
   ]
  },
  {
   "cell_type": "code",
   "execution_count": 209,
   "id": "5b7398a6-4387-4441-b9fe-48f56797e612",
   "metadata": {},
   "outputs": [
    {
     "name": "stdout",
     "output_type": "stream",
     "text": [
      "Player : Sammy has 0 cards.\n"
     ]
    }
   ],
   "source": [
    "print(new_player)"
   ]
  },
  {
   "cell_type": "code",
   "execution_count": 211,
   "id": "9799b45d-a2b1-45ba-92f8-dab8e1652efd",
   "metadata": {},
   "outputs": [
    {
     "name": "stdout",
     "output_type": "stream",
     "text": [
      "Five of Hearts\n"
     ]
    }
   ],
   "source": [
    "print(del_card)"
   ]
  },
  {
   "cell_type": "code",
   "execution_count": 213,
   "id": "5a2160e0-aa0c-485b-9a56-df4a5e7323cb",
   "metadata": {},
   "outputs": [],
   "source": [
    "new_player.add_cards(del_card)"
   ]
  },
  {
   "cell_type": "code",
   "execution_count": 215,
   "id": "acbe7d35-e005-4092-af44-00270854e053",
   "metadata": {},
   "outputs": [
    {
     "name": "stdout",
     "output_type": "stream",
     "text": [
      "Player : Sammy has 1 cards.\n"
     ]
    }
   ],
   "source": [
    "print(new_player)"
   ]
  },
  {
   "cell_type": "code",
   "execution_count": 217,
   "id": "16672d2e-58ad-4e64-bdae-0472f6cc0f40",
   "metadata": {},
   "outputs": [
    {
     "name": "stdout",
     "output_type": "stream",
     "text": [
      "Five of Hearts\n"
     ]
    }
   ],
   "source": [
    "print(new_player.all_cards[0])"
   ]
  },
  {
   "cell_type": "code",
   "execution_count": 219,
   "id": "cbc3ab7f-9cee-4bf0-85ce-aa0b3a93a15e",
   "metadata": {},
   "outputs": [],
   "source": [
    "new_player.add_cards([del_card, del_card,del_card])"
   ]
  },
  {
   "cell_type": "code",
   "execution_count": 221,
   "id": "1f6686d7-8010-4ed3-afcf-b7158202ab10",
   "metadata": {},
   "outputs": [
    {
     "name": "stdout",
     "output_type": "stream",
     "text": [
      "Player : Sammy has 4 cards.\n"
     ]
    }
   ],
   "source": [
    "print(new_player)"
   ]
  },
  {
   "cell_type": "code",
   "execution_count": 223,
   "id": "65b8bc70-4a1e-4231-abf5-58a018c740d3",
   "metadata": {},
   "outputs": [
    {
     "data": {
      "text/plain": [
       "<__main__.Card at 0x26328bddd90>"
      ]
     },
     "execution_count": 223,
     "metadata": {},
     "output_type": "execute_result"
    }
   ],
   "source": [
    "new_player.remove_one()"
   ]
  },
  {
   "cell_type": "code",
   "execution_count": 225,
   "id": "7e707fc7-9c17-4c41-a87f-a03c3d8c4ac5",
   "metadata": {},
   "outputs": [
    {
     "name": "stdout",
     "output_type": "stream",
     "text": [
      "Player : Sammy has 3 cards.\n"
     ]
    }
   ],
   "source": [
    "print(new_player)"
   ]
  },
  {
   "cell_type": "code",
   "execution_count": 241,
   "id": "add0ab8b-cb90-4c6c-ba15-02924cdd379e",
   "metadata": {},
   "outputs": [],
   "source": [
    "# GAME SETUP\n",
    "player_one = Player(\"One\")\n",
    "player_two = Player(\"Two\")\n",
    "\n",
    "new_deck1 = Deck()\n",
    "new_deck1.shuffle()\n",
    "\n",
    "for i in range(26):\n",
    "    player_one.add_cards(new_deck1.deal_one())\n",
    "    player_two.add_cards(new_deck1.deal_one())"
   ]
  },
  {
   "cell_type": "code",
   "execution_count": 243,
   "id": "270b68be-804f-4b60-9a6d-2c3514d0272b",
   "metadata": {},
   "outputs": [],
   "source": [
    "game_on = True"
   ]
  },
  {
   "cell_type": "code",
   "execution_count": 245,
   "id": "324ec186-529b-4179-93b4-6dbf8a756101",
   "metadata": {},
   "outputs": [
    {
     "name": "stdout",
     "output_type": "stream",
     "text": [
      "Round 1\n",
      "Round 2\n",
      "Round 3\n",
      "Round 4\n",
      "Round 5\n",
      "Round 6\n",
      "Round 7\n",
      "Round 8\n",
      "Round 9\n",
      "Round 10\n",
      "Round 11\n",
      "Round 12\n",
      "Round 13\n",
      "Round 14\n",
      "Round 15\n",
      "Round 16\n",
      "Round 17\n",
      "Round 18\n",
      "Round 19\n",
      "WAR!\n",
      "Round 20\n",
      "Round 21\n",
      "Round 22\n",
      "Round 23\n",
      "Round 24\n",
      "Round 25\n",
      "Round 26\n",
      "Round 27\n",
      "Round 28\n",
      "Round 29\n",
      "Round 30\n",
      "Round 31\n",
      "Round 32\n",
      "Round 33\n",
      "Round 34\n",
      "Round 35\n",
      "Round 36\n",
      "Round 37\n",
      "Round 38\n",
      "Round 39\n",
      "Round 40\n",
      "Round 41\n",
      "Round 42\n",
      "Round 43\n",
      "Round 44\n",
      "Round 45\n",
      "Round 46\n",
      "Round 47\n",
      "Round 48\n",
      "Round 49\n",
      "Round 50\n",
      "Round 51\n",
      "Round 52\n",
      "Round 53\n",
      "Round 54\n",
      "Round 55\n",
      "Round 56\n",
      "WAR!\n",
      "Round 57\n",
      "Round 58\n",
      "Round 59\n",
      "Round 60\n",
      "Round 61\n",
      "Round 62\n",
      "Round 63\n",
      "Round 64\n",
      "Round 65\n",
      "Round 66\n",
      "Round 67\n",
      "Round 68\n",
      "Round 69\n",
      "Round 70\n",
      "Round 71\n",
      "Round 72\n",
      "Round 73\n",
      "Round 74\n",
      "Round 75\n",
      "Round 76\n",
      "Round 77\n",
      "Round 78\n",
      "Round 79\n",
      "Round 80\n",
      "WAR!\n",
      "Round 81\n",
      "WAR!\n",
      "Round 82\n",
      "Round 83\n",
      "Round 84\n",
      "Round 85\n",
      "Round 86\n",
      "WAR!\n",
      "Round 87\n",
      "Round 88\n",
      "Round 89\n",
      "Round 90\n",
      "Round 91\n",
      "Round 92\n",
      "Round 93\n",
      "Round 94\n",
      "Round 95\n",
      "Round 96\n",
      "Round 97\n",
      "Round 98\n",
      "Round 99\n",
      "Round 100\n",
      "Round 101\n",
      "Round 102\n",
      "Round 103\n",
      "Round 104\n",
      "Round 105\n",
      "Round 106\n",
      "Round 107\n",
      "Round 108\n",
      "WAR!\n",
      "Round 109\n",
      "Round 110\n",
      "Round 111\n",
      "Round 112\n",
      "Round 113\n",
      "Round 114\n",
      "Round 115\n",
      "Round 116\n",
      "Round 117\n",
      "Round 118\n",
      "WAR!\n",
      "Round 119\n",
      "Round 120\n",
      "Round 121\n",
      "Round 122\n",
      "Round 123\n",
      "WAR!\n",
      "Round 124\n",
      "Round 125\n",
      "Round 126\n",
      "Round 127\n",
      "Round 128\n",
      "Round 129\n",
      "Round 130\n",
      "Round 131\n",
      "Round 132\n",
      "Round 133\n",
      "Round 134\n",
      "Round 135\n",
      "Round 136\n",
      "WAR!\n",
      "Round 137\n",
      "Round 138\n",
      "Round 139\n",
      "Round 140\n",
      "Round 141\n",
      "Round 142\n",
      "Round 143\n",
      "Round 144\n",
      "Round 145\n",
      "WAR!\n",
      "Round 146\n",
      "WAR!\n",
      "Round 147\n",
      "Round 148\n",
      "Round 149\n",
      "Round 150\n",
      "Round 151\n",
      "Round 152\n",
      "Round 153\n",
      "Round 154\n",
      "Round 155\n",
      "Round 156\n",
      "WAR!\n",
      "Round 157\n",
      "Round 158\n",
      "Round 159\n",
      "Round 160\n",
      "Round 161\n",
      "Round 162\n",
      "Round 163\n",
      "Round 164\n",
      "Round 165\n",
      "Round 166\n",
      "Round 167\n",
      "Round 168\n",
      "Round 169\n",
      "Round 170\n",
      "Round 171\n",
      "WAR!\n",
      "Round 172\n",
      "Round 173\n",
      "Round 174\n",
      "Round 175\n",
      "Round 176\n",
      "Round 177\n",
      "Round 178\n",
      "Round 179\n",
      "Round 180\n",
      "WAR!\n",
      "Round 181\n",
      "Round 182\n",
      "Round 183\n",
      "Round 184\n",
      "Round 185\n",
      "Round 186\n",
      "Round 187\n",
      "Round 188\n",
      "WAR!\n",
      "WAR!\n",
      "Round 189\n",
      "Round 190\n",
      "Round 191\n",
      "Round 192\n",
      "Round 193\n",
      "Round 194\n",
      "Round 195\n",
      "Round 196\n",
      "Round 197\n",
      "Round 198\n",
      "WAR!\n",
      "Round 199\n",
      "Round 200\n",
      "Round 201\n",
      "Round 202\n",
      "Round 203\n",
      "Round 204\n",
      "Round 205\n",
      "Round 206\n",
      "Round 207\n",
      "Round 208\n",
      "Round 209\n",
      "Round 210\n",
      "Round 211\n",
      "Round 212\n",
      "Round 213\n",
      "Round 214\n",
      "Round 215\n",
      "Round 216\n",
      "Round 217\n",
      "Round 218\n",
      "Round 219\n",
      "Round 220\n",
      "Round 221\n",
      "Round 222\n",
      "Round 223\n",
      "WAR!\n",
      "Round 224\n",
      "Round 225\n",
      "Round 226\n",
      "Round 227\n",
      "Round 228\n",
      "Round 229\n",
      "WAR!\n",
      "Round 230\n",
      "WAR!\n",
      "Round 231\n",
      "Round 232\n",
      "Round 233\n",
      "Round 234\n",
      "Round 235\n",
      "Round 236\n",
      "Round 237\n",
      "Round 238\n",
      "Round 239\n",
      "Round 240\n",
      "Round 241\n",
      "Round 242\n",
      "Round 243\n",
      "Round 244\n",
      "Round 245\n",
      "Round 246\n",
      "WAR!\n",
      "Round 247\n",
      "Round 248\n",
      "Round 249\n",
      "Round 250\n",
      "Round 251\n",
      "Round 252\n",
      "Round 253\n",
      "Round 254\n",
      "Round 255\n",
      "Round 256\n",
      "Round 257\n",
      "Round 258\n",
      "Round 259\n",
      "Round 260\n",
      "Round 261\n",
      "Round 262\n",
      "Round 263\n",
      "Round 264\n",
      "Round 265\n",
      "Round 266\n",
      "Round 267\n",
      "Round 268\n",
      "Round 269\n",
      "Round 270\n",
      "Round 271\n",
      "Round 272\n",
      "Round 273\n",
      "Round 274\n",
      "Round 275\n",
      "Round 276\n",
      "WAR!\n",
      "Round 277\n",
      "Round 278\n",
      "Round 279\n",
      "Round 280\n",
      "Round 281\n",
      "WAR!\n",
      "Round 282\n",
      "Round 283\n",
      "Round 284\n",
      "WAR!\n",
      "Round 285\n",
      "Round 286\n",
      "Round 287\n",
      "Round 288\n",
      "Round 289\n",
      "Round 290\n",
      "Round 291\n",
      "Round 292\n",
      "WAR!\n",
      "Round 293\n",
      "Round 294\n",
      "Round 295\n",
      "Round 296\n",
      "Round 297\n",
      "Round 298\n",
      "Round 299\n",
      "Round 300\n",
      "Round 301\n",
      "Round 302\n",
      "Round 303\n",
      "WAR!\n",
      "Round 304\n",
      "Round 305\n",
      "Round 306\n",
      "Round 307\n",
      "Round 308\n",
      "Round 309\n",
      "Round 310\n",
      "Round 311\n",
      "Round 312\n",
      "WAR!\n",
      "Round 313\n",
      "Round 314\n",
      "Round 315\n",
      "Round 316\n",
      "Round 317\n",
      "Round 318\n",
      "Round 319\n",
      "Round 320\n",
      "Round 321\n",
      "Round 322\n",
      "Round 323\n",
      "Round 324\n",
      "Round 325\n",
      "Round 326\n",
      "Round 327\n",
      "Round 328\n",
      "Round 329\n",
      "WAR!\n",
      "WAR!\n",
      "Round 330\n",
      "Round 331\n",
      "Round 332\n",
      "Round 333\n",
      "Round 334\n",
      "Round 335\n",
      "Round 336\n",
      "Round 337\n",
      "Round 338\n",
      "Round 339\n",
      "Round 340\n",
      "Round 341\n",
      "Round 342\n",
      "Round 343\n",
      "Round 344\n",
      "Round 345\n",
      "Round 346\n",
      "Round 347\n",
      "Round 348\n",
      "Round 349\n",
      "Round 350\n",
      "Round 351\n",
      "Round 352\n",
      "Round 353\n",
      "Round 354\n",
      "Round 355\n",
      "Round 356\n",
      "Round 357\n",
      "Round 358\n",
      "Round 359\n",
      "Round 360\n",
      "Round 361\n",
      "Round 362\n",
      "Round 363\n",
      "Round 364\n",
      "Round 365\n",
      "Round 366\n",
      "Round 367\n",
      "Round 368\n",
      "Round 369\n",
      "Round 370\n",
      "Round 371\n",
      "Round 372\n",
      "Round 373\n",
      "Round 374\n",
      "Round 375\n",
      "Round 376\n",
      "Round 377\n",
      "Round 378\n",
      "Round 379\n",
      "Round 380\n",
      "Round 381\n",
      "Round 382\n",
      "Round 383\n",
      "Round 384\n",
      "WAR!\n",
      "Round 385\n",
      "Round 386\n",
      "Round 387\n",
      "Round 388\n",
      "Round 389\n",
      "Round 390\n",
      "Round 391\n",
      "Round 392\n",
      "Round 393\n",
      "Round 394\n",
      "Round 395\n",
      "Round 396\n",
      "Round 397\n",
      "Round 398\n",
      "Round 399\n",
      "Round 400\n",
      "Round 401\n",
      "Round 402\n",
      "Round 403\n",
      "Round 404\n",
      "Round 405\n",
      "Round 406\n",
      "Round 407\n",
      "Round 408\n",
      "Round 409\n",
      "Round 410\n",
      "Round 411\n",
      "WAR!\n",
      "Round 412\n",
      "Round 413\n",
      "Round 414\n",
      "Round 415\n",
      "Round 416\n",
      "Round 417\n",
      "Round 418\n",
      "Round 419\n",
      "Round 420\n",
      "Round 421\n",
      "Round 422\n",
      "WAR!\n",
      "Round 423\n",
      "Round 424\n",
      "Round 425\n",
      "Round 426\n",
      "Round 427\n",
      "Round 428\n",
      "Round 429\n",
      "Round 430\n",
      "Round 431\n",
      "Round 432\n",
      "Round 433\n",
      "Round 434\n",
      "Round 435\n",
      "Round 436\n",
      "Round 437\n",
      "Round 438\n",
      "Round 439\n",
      "Round 440\n",
      "Round 441\n",
      "Round 442\n",
      "Round 443\n",
      "Round 444\n",
      "Round 445\n",
      "Round 446\n",
      "Round 447\n",
      "Round 448\n",
      "WAR!\n",
      "Round 449\n",
      "Round 450\n",
      "Round 451\n",
      "Round 452\n",
      "Round 453\n",
      "Round 454\n",
      "Round 455\n",
      "Round 456\n",
      "Round 457\n",
      "Round 458\n",
      "Round 459\n",
      "Round 460\n",
      "Round 461\n",
      "Round 462\n",
      "Round 463\n",
      "Round 464\n",
      "Round 465\n",
      "Round 466\n",
      "Round 467\n",
      "Round 468\n",
      "Round 469\n",
      "Round 470\n",
      "Round 471\n",
      "WAR!\n",
      "Round 472\n",
      "Round 473\n",
      "Round 474\n",
      "Round 475\n",
      "Round 476\n",
      "Round 477\n",
      "Round 478\n",
      "Round 479\n",
      "Round 480\n",
      "Round 481\n",
      "Round 482\n",
      "Round 483\n",
      "Round 484\n",
      "WAR!\n",
      "Round 485\n",
      "Round 486\n",
      "Round 487\n",
      "Round 488\n",
      "Round 489\n",
      "Round 490\n",
      "Round 491\n",
      "Round 492\n",
      "Round 493\n",
      "WAR!\n",
      "Round 494\n",
      "Round 495\n",
      "Round 496\n",
      "Round 497\n",
      "Round 498\n",
      "Round 499\n",
      "Round 500\n",
      "Round 501\n",
      "Round 502\n",
      "Round 503\n",
      "Round 504\n",
      "Round 505\n",
      "Round 506\n",
      "Round 507\n",
      "Round 508\n",
      "Round 509\n",
      "Round 510\n",
      "Round 511\n",
      "Round 512\n",
      "Round 513\n",
      "Round 514\n",
      "Round 515\n",
      "Round 516\n",
      "Round 517\n",
      "Round 518\n",
      "Round 519\n",
      "Round 520\n",
      "Round 521\n",
      "Round 522\n",
      "WAR!\n",
      "Round 523\n",
      "Round 524\n",
      "WAR!\n",
      "WAR!\n",
      "Round 525\n",
      "Round 526\n",
      "Round 527\n",
      "Round 528\n",
      "Round 529\n",
      "Round 530\n",
      "Round 531\n",
      "Round 532\n",
      "Round 533\n",
      "WAR!\n",
      "Round 534\n",
      "Round 535\n",
      "Round 536\n",
      "Round 537\n",
      "Round 538\n",
      "Round 539\n",
      "Round 540\n",
      "Round 541\n",
      "Round 542\n",
      "Round 543\n",
      "Round 544\n",
      "Round 545\n",
      "Round 546\n",
      "Round 547\n",
      "Round 548\n",
      "Round 549\n",
      "Round 550\n",
      "Round 551\n",
      "WAR!\n",
      "Round 552\n",
      "Round 553\n",
      "Round 554\n",
      "Round 555\n",
      "Round 556\n",
      "WAR!\n",
      "Round 557\n",
      "Round 558\n",
      "Round 559\n",
      "Round 560\n",
      "Round 561\n",
      "Round 562\n",
      "Round 563\n",
      "Round 564\n",
      "Round 565\n",
      "WAR!\n",
      "Round 566\n",
      "Round 567\n",
      "Round 568\n",
      "Round 569\n",
      "Round 570\n",
      "Round 571\n",
      "Round 572\n",
      "Round 573\n",
      "Round 574\n",
      "Round 575\n",
      "Round 576\n",
      "Round 577\n",
      "Round 578\n",
      "Round 579\n",
      "Round 580\n",
      "Round 581\n",
      "Round 582\n",
      "Round 583\n",
      "Round 584\n",
      "Round 585\n",
      "Round 586\n",
      "Round 587\n",
      "Round 588\n",
      "Round 589\n",
      "Round 590\n",
      "Round 591\n",
      "Round 592\n",
      "Round 593\n",
      "Round 594\n",
      "Round 595\n",
      "Round 596\n",
      "Round 597\n",
      "Round 598\n",
      "Round 599\n",
      "Round 600\n",
      "Round 601\n",
      "Round 602\n",
      "Round 603\n",
      "Round 604\n",
      "WAR!\n",
      "Round 605\n",
      "Round 606\n",
      "Round 607\n",
      "Round 608\n",
      "Round 609\n",
      "Round 610\n",
      "WAR!\n",
      "Round 611\n",
      "Round 612\n",
      "Round 613\n",
      "Round 614\n",
      "Round 615\n",
      "Round 616\n",
      "Round 617\n",
      "Round 618\n",
      "Round 619\n",
      "Round 620\n",
      "Round 621\n",
      "Round 622\n",
      "Round 623\n",
      "Round 624\n",
      "Round 625\n",
      "WAR!\n",
      "Round 626\n",
      "Round 627\n",
      "Round 628\n",
      "Round 629\n",
      "Round 630\n",
      "Round 631\n",
      "Round 632\n",
      "Round 633\n",
      "WAR!\n",
      "Round 634\n",
      "Round 635\n",
      "Round 636\n",
      "Round 637\n",
      "Round 638\n",
      "Round 639\n",
      "Round 640\n",
      "Round 641\n",
      "Round 642\n",
      "Round 643\n",
      "WAR!\n",
      "Round 644\n",
      "Round 645\n",
      "WAR!\n",
      "Round 646\n",
      "Round 647\n",
      "Round 648\n",
      "Round 649\n",
      "WAR!\n",
      "Round 650\n",
      "Round 651\n",
      "Round 652\n",
      "Round 653\n",
      "Round 654\n",
      "Round 655\n",
      "Round 656\n",
      "Round 657\n",
      "Round 658\n",
      "Round 659\n",
      "Round 660\n",
      "Round 661\n",
      "Round 662\n",
      "Round 663\n",
      "Round 664\n",
      "Round 665\n",
      "Round 666\n",
      "Round 667\n",
      "Round 668\n",
      "WAR!\n",
      "Round 669\n",
      "Round 670\n",
      "Round 671\n",
      "Round 672\n",
      "Round 673\n",
      "Round 674\n",
      "Round 675\n",
      "Round 676\n",
      "Round 677\n",
      "Round 678\n",
      "Round 679\n",
      "Round 680\n",
      "Round 681\n",
      "WAR!\n",
      "Round 682\n",
      "Round 683\n",
      "Round 684\n",
      "Round 685\n",
      "Round 686\n",
      "Round 687\n",
      "Round 688\n",
      "Round 689\n",
      "Round 690\n",
      "Round 691\n",
      "Round 692\n",
      "Round 693\n",
      "Round 694\n",
      "Round 695\n",
      "Round 696\n",
      "Round 697\n",
      "Round 698\n",
      "Round 699\n",
      "Round 700\n",
      "Round 701\n",
      "Round 702\n",
      "Round 703\n",
      "Round 704\n",
      "Round 705\n",
      "Round 706\n",
      "WAR!\n",
      "Round 707\n",
      "Round 708\n",
      "Round 709\n",
      "WAR!\n",
      "Round 710\n",
      "Round 711\n",
      "Round 712\n",
      "Round 713\n",
      "Round 714\n",
      "Round 715\n",
      "Round 716\n",
      "Round 717\n",
      "Round 718\n",
      "Round 719\n",
      "Round 720\n",
      "Round 721\n",
      "Round 722\n",
      "Round 723\n",
      "Round 724\n",
      "Round 725\n",
      "Round 726\n",
      "WAR!\n",
      "Round 727\n",
      "Round 728\n",
      "WAR!\n",
      "Round 729\n",
      "Round 730\n",
      "Round 731\n",
      "Round 732\n",
      "Round 733\n",
      "Round 734\n",
      "Round 735\n",
      "Round 736\n",
      "Round 737\n",
      "Player two out of cards, Player one wins\n"
     ]
    }
   ],
   "source": [
    "round_num = 0\n",
    "\n",
    "#while game on \n",
    "while game_on:\n",
    "    round_num += 1\n",
    "    print(f'Round {round_num}')\n",
    "    if len(player_one.all_cards) == 0:\n",
    "        print(\"Player one out of cards, Player two wins\")\n",
    "        game_on = False\n",
    "        break\n",
    "    elif len(player_two.all_cards) == 0:\n",
    "        print(\"Player two out of cards, Player one wins\")\n",
    "        game_on = False\n",
    "        break\n",
    "\n",
    "        # start a new round\n",
    "    player_one_current_cards = []\n",
    "    player_one_current_cards.append(player_one.remove_one())\n",
    "    \n",
    "    player_two_current_cards = []\n",
    "    player_two_current_cards.append(player_two.remove_one())\n",
    "      \n",
    "    # while at_war\n",
    "    at_war = True\n",
    "    while at_war:\n",
    "        if player_one_current_cards[-1].value > player_two_current_cards[-1].value:\n",
    "            player_one.add_cards(player_one_current_cards)\n",
    "            player_one.add_cards(player_two_current_cards)\n",
    "            at_war = False\n",
    "            \n",
    "        elif player_one_current_cards[-1].value < player_two_current_cards[-1].value:\n",
    "            player_two.add_cards(player_two_current_cards)\n",
    "            player_two.add_cards(player_one_current_cards)\n",
    "            at_war = False\n",
    "            \n",
    "        else:\n",
    "            print(\"WAR!\")\n",
    "            if len(player_one.all_cards) <5:\n",
    "                print(\"Player one unable to declare war\")\n",
    "                print(\"Player two Wins\")\n",
    "                game_on=False\n",
    "                break\n",
    "                \n",
    "            elif len(player_two.all_cards) <5:\n",
    "                print(\"Player two unable to declare war\")\n",
    "                print(\"Player One Wins\")\n",
    "                game_on=False\n",
    "                break\n",
    "                \n",
    "            else:\n",
    "                for num in range(5):\n",
    "                    player_one_current_cards.append(player_one.remove_one())\n",
    "                    player_two_current_cards.append(player_two.remove_one())\n",
    "                    \n",
    "            \n",
    "    "
   ]
  },
  {
   "cell_type": "markdown",
   "id": "48fddef4-a8fa-4b44-bb8a-32ecf1ff9a95",
   "metadata": {},
   "source": [
    "# MILE STONE PROJECT"
   ]
  },
  {
   "cell_type": "code",
   "execution_count": 1,
   "id": "8b3a60ff-a2b8-4a0f-ad94-f05340e0b3ba",
   "metadata": {},
   "outputs": [],
   "source": [
    "#Card\n",
    "# suit(hearts, diamonds, clubs or spades), Rank (2 to 9 , A, J, K, Q), value\n",
    "import random\n",
    "suits = (\"Hearts\", \"Diamonds\", \"Spades\", \"Clubs\")\n",
    "ranks = (\"Two\", \"Three\", \"Four\", \"Five\", \"Six\", \"Seven\", \"Eight\", \"Nine\", \"Ten\", \"Jack\", \"Queen\", \"King\", \"Ace\")\n",
    "values =  { \"Two\": 2,\n",
    "    \"Three\": 3,\n",
    "    \"Four\": 4,\n",
    "    \"Five\": 5,\n",
    "    \"Six\": 6,\n",
    "    \"Seven\": 7,\n",
    "    \"Eight\": 8,\n",
    "    \"Nine\": 9,\n",
    "    \"Ten\": 10,\n",
    "    \"Jack\": 10,\n",
    "    \"Queen\": 10,\n",
    "    \"King\": 10,\n",
    "    \"Ace\": 11}\n",
    "\n",
    "playing = True"
   ]
  },
  {
   "cell_type": "code",
   "execution_count": 3,
   "id": "f1198b46-c6ab-48da-a6dc-3dff8ec39bf9",
   "metadata": {},
   "outputs": [],
   "source": [
    "class Card:\n",
    "    def __init__(self, suit, rank):\n",
    "        self.suit = suit\n",
    "        self. rank = rank\n",
    "        self.value = values[rank]\n",
    "        \n",
    "    def __str__(self):\n",
    "        return self.rank + \" of \" + self. suit "
   ]
  },
  {
   "cell_type": "code",
   "execution_count": 4,
   "id": "7f33d0c5-7539-4922-b696-b1c282cdcb27",
   "metadata": {},
   "outputs": [],
   "source": [
    "mycard = Card(\"Hearts\", 'Three')"
   ]
  },
  {
   "cell_type": "code",
   "execution_count": 5,
   "id": "6ecef018-ed28-4160-a6db-264bf76be021",
   "metadata": {},
   "outputs": [
    {
     "name": "stdout",
     "output_type": "stream",
     "text": [
      "Three of Hearts\n"
     ]
    }
   ],
   "source": [
    "print(mycard)"
   ]
  },
  {
   "cell_type": "code",
   "execution_count": 6,
   "id": "7b3de703-c83a-4251-991c-77d9f7207c96",
   "metadata": {},
   "outputs": [],
   "source": [
    "class Deck:\n",
    "    def __init__(self):\n",
    "        self.deck = []\n",
    "        for suit in suits:\n",
    "            for rank in ranks:\n",
    "                created_card = Card(suit, rank)\n",
    "                self.deck.append(created_card)\n",
    "                \n",
    "    def shuffle_cards(self):\n",
    "        random.shuffle(self.deck)\n",
    "\n",
    "    def deal_one(self):\n",
    "        return self.deck.pop()\n",
    "\n",
    "    def __str__(self):\n",
    "        deck_comp = \" \"\n",
    "        for card_obj in self.deck:\n",
    "            deck_comp += '\\n' + card_obj.__str__()\n",
    "        return \"The deck has: \" + deck_comp"
   ]
  },
  {
   "cell_type": "code",
   "execution_count": 7,
   "id": "8d544bc4-a346-48e2-ae63-76e24c8e0989",
   "metadata": {},
   "outputs": [],
   "source": [
    "deck_test = Deck()"
   ]
  },
  {
   "cell_type": "code",
   "execution_count": 8,
   "id": "ffa849b2-063d-43c2-ab30-9337c8f7c8b5",
   "metadata": {},
   "outputs": [
    {
     "name": "stdout",
     "output_type": "stream",
     "text": [
      "The deck has:  \n",
      "Two of Hearts\n",
      "Three of Hearts\n",
      "Four of Hearts\n",
      "Five of Hearts\n",
      "Six of Hearts\n",
      "Seven of Hearts\n",
      "Eight of Hearts\n",
      "Nine of Hearts\n",
      "Ten of Hearts\n",
      "Jack of Hearts\n",
      "Queen of Hearts\n",
      "King of Hearts\n",
      "Ace of Hearts\n",
      "Two of Diamonds\n",
      "Three of Diamonds\n",
      "Four of Diamonds\n",
      "Five of Diamonds\n",
      "Six of Diamonds\n",
      "Seven of Diamonds\n",
      "Eight of Diamonds\n",
      "Nine of Diamonds\n",
      "Ten of Diamonds\n",
      "Jack of Diamonds\n",
      "Queen of Diamonds\n",
      "King of Diamonds\n",
      "Ace of Diamonds\n",
      "Two of Spades\n",
      "Three of Spades\n",
      "Four of Spades\n",
      "Five of Spades\n",
      "Six of Spades\n",
      "Seven of Spades\n",
      "Eight of Spades\n",
      "Nine of Spades\n",
      "Ten of Spades\n",
      "Jack of Spades\n",
      "Queen of Spades\n",
      "King of Spades\n",
      "Ace of Spades\n",
      "Two of Clubs\n",
      "Three of Clubs\n",
      "Four of Clubs\n",
      "Five of Clubs\n",
      "Six of Clubs\n",
      "Seven of Clubs\n",
      "Eight of Clubs\n",
      "Nine of Clubs\n",
      "Ten of Clubs\n",
      "Jack of Clubs\n",
      "Queen of Clubs\n",
      "King of Clubs\n",
      "Ace of Clubs\n"
     ]
    }
   ],
   "source": [
    "print(deck_test)"
   ]
  },
  {
   "cell_type": "code",
   "execution_count": 15,
   "id": "8c307bc8-0c6f-4a87-b03c-0c9e095ec09b",
   "metadata": {},
   "outputs": [],
   "source": [
    "class Hand:\n",
    "    def __init__(self):\n",
    "        self.cards = []\n",
    "        self.value = 0\n",
    "        self. aces = 0\n",
    "\n",
    "    def add_card(self, card):\n",
    "        self.cards.append(card)\n",
    "        self.value += values[card.rank]\n",
    "\n",
    "    def adjust_for_ace(self):\n",
    "        pass\n",
    "        "
   ]
  },
  {
   "cell_type": "code",
   "execution_count": 17,
   "id": "5e62e9d6-92dc-4097-928f-18a433c90bb7",
   "metadata": {},
   "outputs": [
    {
     "data": {
      "text/plain": [
       "7"
      ]
     },
     "execution_count": 17,
     "metadata": {},
     "output_type": "execute_result"
    }
   ],
   "source": [
    "deck_test = Deck()\n",
    "deck_test.shuffle_cards()\n",
    "test_player = Hand()\n",
    "test_player.add_card(deck_test.deal_one())\n",
    "test_player.add_card(deck_test.deal_one())\n",
    "test_player.value"
   ]
  },
  {
   "cell_type": "code",
   "execution_count": 19,
   "id": "ab1a024e-d906-4865-b8bb-077af6b11844",
   "metadata": {},
   "outputs": [
    {
     "name": "stdout",
     "output_type": "stream",
     "text": [
      "Three of Diamonds\n",
      "Four of Diamonds\n"
     ]
    }
   ],
   "source": [
    "for card in test_player.cards:\n",
    "    print(card)"
   ]
  },
  {
   "cell_type": "code",
   "execution_count": 21,
   "id": "817f4a93-5400-42c2-b23f-0042d0d7008e",
   "metadata": {},
   "outputs": [],
   "source": [
    "class Hand:\n",
    "    def __init__(self):\n",
    "        self.cards = []\n",
    "        self.value = 0\n",
    "        self. aces = 0\n",
    "\n",
    "    def add_card(self, card):\n",
    "        self.cards.append(card)\n",
    "        self.value += values[card.rank]\n",
    "        if card.rank == \"Ace\":\n",
    "            self.aces +=1 \n",
    "\n",
    "    def adjust_for_ace(self):\n",
    "        while self.value > 21 and self.aces:\n",
    "            self.value -= 10\n",
    "            self.aces -= 1\n",
    "        "
   ]
  },
  {
   "cell_type": "code",
   "execution_count": 23,
   "id": "1f2f7017-5b76-490c-8fe2-667ad011cffa",
   "metadata": {},
   "outputs": [],
   "source": [
    "class Chips:\n",
    "    def __init__(self):\n",
    "        self.total = 100\n",
    "        self.bet = 0\n",
    "        \n",
    "    def win_bet(self):\n",
    "        self.total  += self.bet\n",
    "\n",
    "    def lose_bet(self):\n",
    "        self.total -= self.bet"
   ]
  },
  {
   "cell_type": "code",
   "execution_count": 25,
   "id": "056189c0-48a8-4549-ab17-6da98e4c6813",
   "metadata": {},
   "outputs": [],
   "source": [
    "def take_bet(chips):\n",
    "    while True:\n",
    "        try:\n",
    "            chips.bet = int(input(\"How many chips would you like to bet?\"))\n",
    "        except ValueError:\n",
    "            print(\"We take only an integer\")\n",
    "        else:\n",
    "            if chips.bet > chips.total:\n",
    "                print(\" Sorry , you can't exceed\", chips.total)\n",
    "            else:\n",
    "                break\n",
    "                "
   ]
  },
  {
   "cell_type": "code",
   "execution_count": 27,
   "id": "1ed4aa56-46d0-405c-9f0e-fe3a776889c3",
   "metadata": {},
   "outputs": [],
   "source": [
    "def hit(deck, hand):\n",
    "    hand.add_card(deck. deal_one())\n",
    "    hand.adjust_for_ace()"
   ]
  },
  {
   "cell_type": "code",
   "execution_count": 29,
   "id": "a875aa26-bf10-4b95-849d-a50d4f91bb91",
   "metadata": {},
   "outputs": [],
   "source": [
    "def hit_or_stand(deck, hand):\n",
    "    global playing\n",
    "    while True:\n",
    "        x= input(\"Would you like to hit or stand? H or S \")\n",
    "        if x[0].lower() == 'h':\n",
    "            hit(deck, hand)\n",
    "\n",
    "        elif x[0].lower() == 's':\n",
    "            print(\"Player stands, Dealer is playing\")\n",
    "            playing = False\n",
    "\n",
    "        else:\n",
    "            print(\"Sorry, please try again\")\n",
    "            continue\n",
    "        break"
   ]
  },
  {
   "cell_type": "code",
   "execution_count": 31,
   "id": "55db71d4-ef6a-4f26-bda8-5effcb1bac55",
   "metadata": {},
   "outputs": [],
   "source": [
    "def show_some(player,dealer):\n",
    "    print(\"\\nDealer's Hand:\")\n",
    "    print(\" <card hidden>\")\n",
    "    print('',dealer.cards[1])  \n",
    "    print(\"\\nPlayer's Hand:\", *player.cards, sep='\\n ')\n",
    "    \n",
    "def show_all(player,dealer):\n",
    "    print(\"\\nDealer's Hand:\", *dealer.cards, sep='\\n ')\n",
    "    print(\"Dealer's Hand =\",dealer.value)\n",
    "    print(\"\\nPlayer's Hand:\", *player.cards, sep='\\n ')\n",
    "    print(\"Player's Hand =\",player.value)"
   ]
  },
  {
   "cell_type": "code",
   "execution_count": 33,
   "id": "ea4e2f7d-4657-40f4-926d-f9f8ece60151",
   "metadata": {},
   "outputs": [],
   "source": [
    "def player_busts(player,dealer,chips):\n",
    "    print(\"Player busts!\")\n",
    "    chips.lose_bet()\n",
    "\n",
    "def player_wins(player,dealer,chips):\n",
    "    print(\"Player wins!\")\n",
    "    chips.win_bet()\n",
    "\n",
    "def dealer_busts(player,dealer,chips):\n",
    "    print(\"Dealer busts!\")\n",
    "    chips.win_bet()\n",
    "    \n",
    "def dealer_wins(player,dealer,chips):\n",
    "    print(\"Dealer wins!\")\n",
    "    chips.lose_bet()\n",
    "    \n",
    "def push(player,dealer):\n",
    "    print(\"Dealer and Player tie! It's a push.\")"
   ]
  },
  {
   "cell_type": "code",
   "execution_count": null,
   "id": "d490ba57-832f-40b8-9225-f52e61303534",
   "metadata": {},
   "outputs": [
    {
     "name": "stdout",
     "output_type": "stream",
     "text": [
      "Welcome to BlackJack! Get as close to 21 as you can without going over!\n",
      "    Dealer hits until she reaches 17. Aces count as 1 or 11.\n"
     ]
    },
    {
     "name": "stdin",
     "output_type": "stream",
     "text": [
      "How many chips would you like to bet? 50\n"
     ]
    },
    {
     "name": "stdout",
     "output_type": "stream",
     "text": [
      "\n",
      "Dealer's Hand:\n",
      " <card hidden>\n",
      " Six of Spades\n",
      "\n",
      "Player's Hand:\n",
      " King of Spades\n",
      " Seven of Diamonds\n"
     ]
    },
    {
     "name": "stdin",
     "output_type": "stream",
     "text": [
      "Would you like to hit or stand? H or S  h\n"
     ]
    },
    {
     "name": "stdout",
     "output_type": "stream",
     "text": [
      "\n",
      "Dealer's Hand:\n",
      " <card hidden>\n",
      " Six of Spades\n",
      "\n",
      "Player's Hand:\n",
      " King of Spades\n",
      " Seven of Diamonds\n",
      " Three of Hearts\n"
     ]
    },
    {
     "name": "stdin",
     "output_type": "stream",
     "text": [
      "Would you like to hit or stand? H or S  h\n"
     ]
    },
    {
     "name": "stdout",
     "output_type": "stream",
     "text": [
      "\n",
      "Dealer's Hand:\n",
      " <card hidden>\n",
      " Six of Spades\n",
      "\n",
      "Player's Hand:\n",
      " King of Spades\n",
      " Seven of Diamonds\n",
      " Three of Hearts\n",
      " Eight of Spades\n",
      "Player busts!\n",
      "\n",
      "Player's winnings stand at 50\n"
     ]
    },
    {
     "name": "stdin",
     "output_type": "stream",
     "text": [
      "Would you like to play another hand? Enter 'y' or 'n'  y\n"
     ]
    },
    {
     "name": "stdout",
     "output_type": "stream",
     "text": [
      "Welcome to BlackJack! Get as close to 21 as you can without going over!\n",
      "    Dealer hits until she reaches 17. Aces count as 1 or 11.\n"
     ]
    },
    {
     "name": "stdin",
     "output_type": "stream",
     "text": [
      "How many chips would you like to bet? 45\n"
     ]
    },
    {
     "name": "stdout",
     "output_type": "stream",
     "text": [
      "\n",
      "Dealer's Hand:\n",
      " <card hidden>\n",
      " Nine of Hearts\n",
      "\n",
      "Player's Hand:\n",
      " Six of Diamonds\n",
      " Ten of Hearts\n"
     ]
    },
    {
     "name": "stdin",
     "output_type": "stream",
     "text": [
      "Would you like to hit or stand? H or S  s\n"
     ]
    },
    {
     "name": "stdout",
     "output_type": "stream",
     "text": [
      "Player stands, Dealer is playing\n",
      "\n",
      "Dealer's Hand:\n",
      " <card hidden>\n",
      " Nine of Hearts\n",
      "\n",
      "Player's Hand:\n",
      " Six of Diamonds\n",
      " Ten of Hearts\n",
      "\n",
      "Dealer's Hand:\n",
      " Three of Hearts\n",
      " Nine of Hearts\n",
      " Five of Clubs\n",
      "Dealer's Hand = 17\n",
      "\n",
      "Player's Hand:\n",
      " Six of Diamonds\n",
      " Ten of Hearts\n",
      "Player's Hand = 16\n",
      "Dealer wins!\n",
      "\n",
      "Player's winnings stand at 55\n"
     ]
    }
   ],
   "source": [
    "while True:\n",
    "    # Print an opening statement\n",
    "    print('Welcome to BlackJack! Get as close to 21 as you can without going over!\\n\\\n",
    "    Dealer hits until she reaches 17. Aces count as 1 or 11.')\n",
    "    \n",
    "    # Create & shuffle the deck, deal two cards to each player\n",
    "    deck = Deck()\n",
    "    deck.shuffle_cards()\n",
    "    \n",
    "    player_hand = Hand()\n",
    "    player_hand.add_card(deck.deal_one())\n",
    "    player_hand.add_card(deck.deal_one())\n",
    "    \n",
    "    dealer_hand = Hand()\n",
    "    dealer_hand.add_card(deck.deal_one())\n",
    "    dealer_hand.add_card(deck.deal_one())\n",
    "            \n",
    "    # Set up the Player's chips\n",
    "    player_chips = Chips()  # remember the default value is 100    \n",
    "    \n",
    "    # Prompt the Player for their bet\n",
    "    take_bet(player_chips)\n",
    "    \n",
    "    # Show cards (but keep one dealer card hidden)\n",
    "    show_some(player_hand,dealer_hand)\n",
    "    \n",
    "    while playing:  # recall this variable from our hit_or_stand function\n",
    "        \n",
    "        # Prompt for Player to Hit or Stand\n",
    "        hit_or_stand(deck,player_hand) \n",
    "        \n",
    "        # Show cards (but keep one dealer card hidden)\n",
    "        show_some(player_hand,dealer_hand)  \n",
    "        \n",
    "        # If player's hand exceeds 21, run player_busts() and break out of loop\n",
    "        if player_hand.value > 21:\n",
    "            player_busts(player_hand,dealer_hand,player_chips)\n",
    "            break        \n",
    "\n",
    "\n",
    "    # If Player hasn't busted, play Dealer's hand until Dealer reaches 17 \n",
    "    if player_hand.value <= 21:\n",
    "        \n",
    "        while dealer_hand.value < 17:\n",
    "            hit(deck,dealer_hand)    \n",
    "    \n",
    "        # Show all cards\n",
    "        show_all(player_hand,dealer_hand)\n",
    "        \n",
    "        # Run different winning scenarios\n",
    "        if dealer_hand.value > 21:\n",
    "            dealer_busts(player_hand,dealer_hand,player_chips)\n",
    "\n",
    "        elif dealer_hand.value > player_hand.value:\n",
    "            dealer_wins(player_hand,dealer_hand,player_chips)\n",
    "\n",
    "        elif dealer_hand.value < player_hand.value:\n",
    "            player_wins(player_hand,dealer_hand,player_chips)\n",
    "\n",
    "        else:\n",
    "            push(player_hand,dealer_hand)        \n",
    "    \n",
    "    # Inform Player of their chips total \n",
    "    print(\"\\nPlayer's winnings stand at\",player_chips.total)\n",
    "    \n",
    "    # Ask to play again\n",
    "    new_game = input(\"Would you like to play another hand? Enter 'y' or 'n' \")\n",
    "    \n",
    "    if new_game[0].lower()=='y':\n",
    "        playing=True\n",
    "        continue\n",
    "    else:\n",
    "        print(\"Thanks for playing!\")\n",
    "        break"
   ]
  },
  {
   "cell_type": "code",
   "execution_count": null,
   "id": "6e4d12a9-5085-4601-bca7-9f2d4780122a",
   "metadata": {},
   "outputs": [],
   "source": []
  }
 ],
 "metadata": {
  "kernelspec": {
   "display_name": "Python [conda env:base] *",
   "language": "python",
   "name": "conda-base-py"
  },
  "language_info": {
   "codemirror_mode": {
    "name": "ipython",
    "version": 3
   },
   "file_extension": ".py",
   "mimetype": "text/x-python",
   "name": "python",
   "nbconvert_exporter": "python",
   "pygments_lexer": "ipython3",
   "version": "3.12.7"
  }
 },
 "nbformat": 4,
 "nbformat_minor": 5
}
